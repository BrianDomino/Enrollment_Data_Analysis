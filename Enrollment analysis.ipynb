{
 "cells": [
  {
   "cell_type": "markdown",
   "metadata": {},
   "source": [
    "## Combine semester data into one file"
   ]
  },
  {
   "cell_type": "code",
   "execution_count": 1,
   "metadata": {},
   "outputs": [],
   "source": [
    "# First let's combine the individual semester files into one big file\n",
    "# This code is from https://github.com/ekapope/Combine-CSV-files-in-the-folder/blob/master/Combine_CSVs.py\n",
    "\n",
    "import os\n",
    "import glob\n",
    "import pandas as pd\n",
    "import matplotlib.pyplot \n",
    "import numpy as np\n",
    "import matplotlib.pyplot as plt\n",
    "\n",
    "\n",
    "# This is the path to the folder with the data files\n",
    "os.chdir(\"/Users/briandomino/Documents/Miami/MUR enrollment data\")"
   ]
  },
  {
   "cell_type": "code",
   "execution_count": 2,
   "metadata": {},
   "outputs": [],
   "source": [
    "extension = 'csv'\n",
    "all_filenames = [i for i in glob.glob('*Semester*.{}'.format(extension))]\n",
    "\n",
    "# Be careful not to have files in this directory with \"Semester\" in their names\n",
    "# that you don't want loaded into the dataset"
   ]
  },
  {
   "cell_type": "code",
   "execution_count": 3,
   "metadata": {},
   "outputs": [],
   "source": [
    "#combine all files in the list\n",
    "combined_csv = pd.concat([pd.read_csv(f) for f in all_filenames ])\n",
    "\n",
    "#export to csv\n",
    "combined_csv.to_csv( \"combined enrollment data.csv\", index=False, encoding='utf-8-sig')"
   ]
  },
  {
   "cell_type": "code",
   "execution_count": 4,
   "metadata": {},
   "outputs": [],
   "source": [
    "# This is where you would begin if you've already done the merging\n",
    "# but have made some changes to the code below\n",
    "\n",
    "df = pd.read_csv(\"combined enrollment data.csv\")"
   ]
  },
  {
   "cell_type": "markdown",
   "metadata": {},
   "source": [
    "## Clean the data"
   ]
  },
  {
   "cell_type": "code",
   "execution_count": 5,
   "metadata": {},
   "outputs": [],
   "source": [
    "# remove the columns we're not interested in\n",
    "df.drop([\"CRN\", \"Business Surcharge\", \"Description\", \"Meeting Dates\", \"Cross-List Sections\", \"Course Level\",\n",
    "         \"Meeting Days\", \"Meeting Times\", \"Meeting Locations\", \"Special Approval\", \"Grade Mode\",\n",
    "         \"Additional Notes\", \"Attribute Description\"], axis = 'columns', inplace = True) "
   ]
  },
  {
   "cell_type": "code",
   "execution_count": 6,
   "metadata": {},
   "outputs": [],
   "source": [
    "# Remove instructor's first name and\n",
    "# change fee of \"None\" to 0\n",
    "# r is the row and we're going through all the rows one-by-one\n",
    "\n",
    "# Rather than give a column number, I'm going to calculate it so it doesn't matter\n",
    "# if it later changes\n",
    "\n",
    "index_no_of_instructor = df.columns.get_loc('Instructors')\n",
    "index_no_of_fees = df.columns.get_loc('Estimated Fees')\n",
    "\n",
    "for r in range(len(df)) :\n",
    "    name = (df.iloc[r, index_no_of_instructor])\n",
    "    name = name.split(',')[0]\n",
    "    df.iloc[r, index_no_of_instructor] = name\n",
    "    \n",
    "    if df.iloc[r, index_no_of_fees] == 'None':\n",
    "        df.iloc[r, index_no_of_fees] = '0'"
   ]
  },
  {
   "cell_type": "code",
   "execution_count": 7,
   "metadata": {},
   "outputs": [],
   "source": [
    "# Remove the $ in the fees column as it prevents later calculations\n",
    "\n",
    "df[df.columns[index_no_of_fees]] = df[df.columns[index_no_of_fees]].replace('[\\$,]', '', regex=True).astype(float)"
   ]
  },
  {
   "cell_type": "code",
   "execution_count": 8,
   "metadata": {},
   "outputs": [],
   "source": [
    "df.sort_values(by=['Term'], ascending=False, inplace = True)"
   ]
  },
  {
   "cell_type": "code",
   "execution_count": 9,
   "metadata": {},
   "outputs": [],
   "source": [
    "# Save the cleaned data\n",
    "df.to_csv(\"cleaned combined enrollment data.csv\", index=False)"
   ]
  },
  {
   "cell_type": "markdown",
   "metadata": {},
   "source": [
    "## Calculate efficiency and add it to the dataframe"
   ]
  },
  {
   "cell_type": "code",
   "execution_count": 10,
   "metadata": {},
   "outputs": [],
   "source": [
    "df['Efficiency'] = df['Enrollment'] / df['Capacity']"
   ]
  },
  {
   "cell_type": "code",
   "execution_count": 11,
   "metadata": {},
   "outputs": [],
   "source": [
    "# Move Efficiency to be between Capacity and Credit Hours\n",
    "\n",
    "index_no_of_Credit_Hours = df.columns.get_loc('Credit Hours')\n",
    "cols = list(df.columns)\n",
    "df = df[cols[0:index_no_of_Credit_Hours] + [cols[-1]] + cols[index_no_of_Credit_Hours:-1]]"
   ]
  },
  {
   "cell_type": "markdown",
   "metadata": {},
   "source": [
    "## Calculate credit hour production and add it to the dataframe"
   ]
  },
  {
   "cell_type": "code",
   "execution_count": 12,
   "metadata": {},
   "outputs": [],
   "source": [
    "df['CH Prod'] = df['Enrollment'] * df['Credit Hours']\n",
    "\n",
    "# Move CH Prod to be before Delivery\n",
    "\n",
    "index_no_of_delivery = df.columns.get_loc('Delivery')\n",
    "cols = list(df.columns)\n",
    "df = df[cols[0:index_no_of_delivery] + [cols[-1]] + cols[index_no_of_delivery:-1]]"
   ]
  },
  {
   "cell_type": "markdown",
   "metadata": {},
   "source": [
    "## Calculate fees generated per class and add it to the dataframe"
   ]
  },
  {
   "cell_type": "code",
   "execution_count": 13,
   "metadata": {},
   "outputs": [],
   "source": [
    "df['Total Fees'] = df['Enrollment'] * df['Estimated Fees']"
   ]
  },
  {
   "cell_type": "markdown",
   "metadata": {},
   "source": [
    "## Number of instructors per semester"
   ]
  },
  {
   "cell_type": "code",
   "execution_count": 14,
   "metadata": {},
   "outputs": [],
   "source": [
    "# This will be used to adjust the credit hour production\n",
    "no_of_instructors = df.groupby('Term')['Instructors'].nunique()"
   ]
  },
  {
   "cell_type": "markdown",
   "metadata": {},
   "source": [
    "## Credit hour production per semester"
   ]
  },
  {
   "cell_type": "code",
   "execution_count": 15,
   "metadata": {},
   "outputs": [],
   "source": [
    "semester_ch_prod = df.groupby('Term')['CH Prod'].sum()"
   ]
  },
  {
   "cell_type": "markdown",
   "metadata": {},
   "source": [
    "## Fees generated per semester"
   ]
  },
  {
   "cell_type": "code",
   "execution_count": 16,
   "metadata": {},
   "outputs": [],
   "source": [
    "fees_per_semester = df.groupby('Term')['Total Fees'].sum()"
   ]
  },
  {
   "cell_type": "markdown",
   "metadata": {},
   "source": [
    "## Calculate efficiency by semester"
   ]
  },
  {
   "cell_type": "code",
   "execution_count": 17,
   "metadata": {},
   "outputs": [],
   "source": [
    "semester_efficiency = df.groupby('Term')['Enrollment'].sum() / df.groupby('Term')['Capacity'].sum()"
   ]
  },
  {
   "cell_type": "markdown",
   "metadata": {},
   "source": [
    "## Create a semester-by-semester dataframe from the above calculations"
   ]
  },
  {
   "cell_type": "code",
   "execution_count": 18,
   "metadata": {},
   "outputs": [],
   "source": [
    "semester_by_semester = pd.concat([semester_ch_prod, no_of_instructors, fees_per_semester,\n",
    "                                  semester_efficiency.rename('Semester Efficiency')], axis=1).reset_index()"
   ]
  },
  {
   "cell_type": "code",
   "execution_count": 19,
   "metadata": {},
   "outputs": [],
   "source": [
    "semester_by_semester['CH Prod/Inst'] = semester_by_semester['CH Prod'] / semester_by_semester['Instructors']"
   ]
  },
  {
   "cell_type": "code",
   "execution_count": 20,
   "metadata": {},
   "outputs": [],
   "source": [
    "# now save this as a spreadsheet\n",
    "\n",
    "semester_by_semester.to_excel('Revised Data.xlsx', index = False)"
   ]
  },
  {
   "cell_type": "markdown",
   "metadata": {},
   "source": [
    "## Make some bar charts using the school color"
   ]
  },
  {
   "cell_type": "code",
   "execution_count": 21,
   "metadata": {},
   "outputs": [
    {
     "data": {
      "image/png": "[encoded data removed]",
      "text/plain": [
       "<Figure size 432x288 with 1 Axes>"
      ]
     },
     "metadata": {
      "needs_background": "light"
     },
     "output_type": "display_data"
    }
   ],
   "source": [
    "semester_by_semester.plot.bar(x='Term', y='Semester Efficiency', rot = 90, color = '#c3142d',\n",
    "                              grid = True, legend = False, title = 'Efficiency by Semester')\n",
    "\n",
    "plt.savefig('Semester Efficiency.png', dpi=300, bbox_inches = \"tight\") "
   ]
  },
  {
   "cell_type": "code",
   "execution_count": 22,
   "metadata": {},
   "outputs": [
    {
     "data": {
      "image/png": "[encoded data removed]",
      "text/plain": [
       "<Figure size 432x288 with 1 Axes>"
      ]
     },
     "metadata": {
      "needs_background": "light"
     },
     "output_type": "display_data"
    }
   ],
   "source": [
    "semester_by_semester.plot.bar(x='Term', y='Total Fees', rot = 90, title = 'Total Fees', \n",
    "                              color = '#c3142d', grid = True, legend = False)\n",
    "\n",
    "plt.savefig('Total Fees.png', dpi=300, bbox_inches = \"tight\") "
   ]
  },
  {
   "cell_type": "code",
   "execution_count": 23,
   "metadata": {},
   "outputs": [
    {
     "data": {
      "image/png": "[encoded data removed]",
      "text/plain": [
       "<Figure size 432x288 with 1 Axes>"
      ]
     },
     "metadata": {
      "needs_background": "light"
     },
     "output_type": "display_data"
    }
   ],
   "source": [
    "semester_by_semester.plot.bar(x='Term', y='CH Prod/Inst', rot=90, title = 'Credit Hour Production per Instructor',\n",
    "                              color = '#c3142d', grid = True, legend = False)\n",
    "\n",
    "plt.savefig('CH prod per instructor.png', dpi=300, bbox_inches = \"tight\") "
   ]
  },
  {
   "cell_type": "code",
   "execution_count": null,
   "metadata": {},
   "outputs": [],
   "source": []
  }
 ],
 "metadata": {
  "kernelspec": {
   "display_name": "Python 3",
   "language": "python",
   "name": "python3"
  },
  "language_info": {
   "codemirror_mode": {
    "name": "ipython",
    "version": 3
   },
   "file_extension": ".py",
   "mimetype": "text/x-python",
   "name": "python",
   "nbconvert_exporter": "python",
   "pygments_lexer": "ipython3",
   "version": "3.7.6"
  }
 },
 "nbformat": 4,
 "nbformat_minor": 4
}
